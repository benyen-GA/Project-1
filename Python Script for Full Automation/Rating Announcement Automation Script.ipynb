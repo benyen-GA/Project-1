{
 "cells": [
  {
   "cell_type": "markdown",
   "id": "81ae24a0",
   "metadata": {},
   "source": [
    "# <span style=\"font-size: 28px;\"><b>Rating Announcement Automation Script</span>\n",
    "\n",
    "<hr style=\"border-top: 3px solid black;\">    \n",
    "    \n",
    "Welcome to the Rating Announcement Autmation Script Notebook! This notebook contains a set of functions and workflows designed to automate the process of handling rating announcements for various industry tools. This script is <span style=\"color: red;\"><b>ONLY</b></span> to be used for the following industry tools:\n",
    "<br>\n",
    "<b>\n",
    "1. SLCP Bronze / Red\n",
    "2. FEM Bronze / Red\n",
    "3. ZDHC Bronze / Red\n",
    "4. TRV(SLCP) / TRV(FEM) \n",
    "</b>\n",
    "\n",
    "    \n",
    "This section is a walkthrough for running the rating announcement.\n",
    "\n",
    "<b>Download Data</b>: The script downloads Excel files from FFC, UCR, and OCR sources, containing relevant information for the rating announcement.\n",
    "\n",
    "<b>Update Smartsheet</b>: It updates the Masterlist, Logic, and FY24 Tracker Smartsheets with the latest data related to the rating announcement.\n",
    "\n",
    "<b>Pull Data from Smartsheet</b>: The script pulls necessary data from the Smartsheet for further processing and analysis. The smartsheet that the data is being pulled from is **SLCP Non-BW Logic**.\n",
    "\n",
    "<b>Download Report</b>: Download the Rating Announcement Report of the individual facilities that will be used as attachment when sending the Rating Announcement.\n",
    "\n",
    "<b>Send Rating Announcement</b>: Finally, the script sends out the rating announcement to stakeholders or designated recipients, ensuring timely dissemination of information. This should include the necessary attachments being attached to the emails.\n",
    "\n",
    "<hr style=\"border-top: 1px solid black;\">\n",
    "    \n",
    "<span style=\"font-size: 16px;\">The following sections are essential for navigating the various industry tools needed to run the Rating announcement:\n",
    "<span style=\"color: red; font-size: 15px;\"><br>**Please ensure that you run all the below sections before proceeding to the indivdual sections of the Rating announcement!!**</span>    \n",
    "\n",
    "1. [Libraries](#library): This section imports the necessary libraries required for all rating announcement sections.\n",
    "\n",
    "2. [Input filtering date](#dates): This section prompts you to input filtering dates for all rating announcement sections.\n",
    "\n",
    "3. [Generating OCR Report](#OCR_report): This section generates an OCR report.\n",
    "\n",
    "4. [Updating OCR in Masterlist](#update_masterlist_ocr): This section updates the Masterlist with OCR data.\n",
    "\n",
    "\n",
    "<hr style=\"border-top: 3px solid black;\">\n"
   ]
  },
  {
   "cell_type": "markdown",
   "id": "f0cca0d7",
   "metadata": {},
   "source": [
    "### Import libraries <a id=\"library\"></a>"
   ]
  },
  {
   "cell_type": "code",
   "execution_count": 1,
   "id": "c045522d",
   "metadata": {},
   "outputs": [
    {
     "name": "stdout",
     "output_type": "stream",
     "text": [
      "importing Jupyter notebook from Templates.ipynb\n"
     ]
    }
   ],
   "source": [
    "import import_ipynb\n",
    "import Templates\n",
    "import pandas as pd \n",
    "from datetime import datetime"
   ]
  },
  {
   "cell_type": "markdown",
   "id": "1b90221e",
   "metadata": {},
   "source": [
    "<hr style=\"border-top: 1px solid black;\">\n",
    "\n",
    "### Input Dates for Report Filtering <a id=\"dates\"></a>\n",
    "\n",
    "Please input the start and end dates for the report. The format for the dates should be in <b>MM/DD/YYYY</b> format.\n",
    "\n",
    "These dates will be used to filter the data for the report in FFC, ensuring that only data within the specified date range is included in the analysis.\n",
    "\n",
    "Example:\n",
    "- Start Date: 01/01/2024\n",
    "- End Date: 12/31/2024"
   ]
  },
  {
   "cell_type": "code",
   "execution_count": 2,
   "id": "1b037d52",
   "metadata": {},
   "outputs": [],
   "source": [
    "#Input date is MM/DD/YYYY\n",
    "start = '11/01/2023'\n",
    "end = '12/31/2023'"
   ]
  },
  {
   "cell_type": "markdown",
   "id": "c405ccbf",
   "metadata": {},
   "source": [
    "<hr style=\"border-top: 1px solid black;\">\n",
    "\n",
    "### Generating OCR Report <a id=\"OCR_report\"></a>\n",
    "\n",
    "This block of code calls the function `ocr_report` from the templates module to generate an OCR report (Overall Compliance Rating). \n",
    "\n",
    "- `report1_name`: Specifies the name of the URS report (User Requirement Specification) in FFC, specifically targeting the CDT_OCR, which pulls out the most recent Overall Compliance Rating for all facilities.\n",
    "- `report1_filename`: Specifies the file name for saving the generated OCR report in the directory.\n",
    "\n",
    "Ensure that the `ocr_report` function is properly configured and that the specified filenames are accurate to prevent errors and ensure successful generation and saving of the OCR report."
   ]
  },
  {
   "cell_type": "code",
   "execution_count": null,
   "id": "2999e7ab",
   "metadata": {},
   "outputs": [],
   "source": [
    "report1_name = \"CDT_OCR\"\n",
    "report1_filename = \"CDT FFC-Smartsheet(OCR)\"\n",
    "\n",
    "print(f\"Downloading {report1_name} Report\")\n",
    "df_ocr = Templates.ocr_report(report1_name, report1_filename)\n",
    "print(f\"{report1_name} Report has been saved!\")"
   ]
  },
  {
   "cell_type": "markdown",
   "id": "fe2c8143",
   "metadata": {},
   "source": [
    "<hr style=\"border-top: 1px solid black;\">\n",
    "\n",
    "### Updating Masterlist for OCR  <a id=\"update_masterlist_ocr\"></a>\n",
    "\n",
    "This block of code updates the Masterlist Smartsheet for the Overall Compliance Rating (OCR) column. \n",
    "\n",
    "- The `Overall_rating` dictionary maps the \"Overall Rating FFC\" column from the Masterlist Smartsheet to the corresponding \"Overall Compliance Rating\" value from the DataFrame `df`. This mapping ensures that the compliance ratings from the Smartsheet are correctly aligned with the data in the DataFrame.\n",
    "\n",
    "- The `Overall_AF` dictionary maps the \"Overall AF Date\" column from the Masterlist Smartsheet to the corresponding \"Last Changed AF Date\" value from the DataFrame `df`. This mapping ensures that the audit finding dates from the Smartsheet are correctly aligned with the data in the DataFrame.\n",
    "\n",
    "The `update_ss(df, sheet_id, column_mapping)` function is used to update a Smartsheet with data from a DataFrame.\n",
    "\n",
    "- `df`: This parameter represents the DataFrame containing the data to be updated in the Smartsheet.\n",
    "\n",
    "- `sheet_id`: This parameter specifies the ID of the Smartsheet to be updated.\n",
    "\n",
    "- `column_mapping`: This parameter is a dictionary that maps columns in the Smartsheet to corresponding columns in the DataFrame. It ensures that the data from the DataFrame is correctly aligned with the appropriate columns in the Smartsheet.\n",
    "\n",
    "This update is applied across all industry tools.\n",
    "\n",
    "Ensure that the `update_ss` function from the `Templates` module is properly configured and that the DataFrame `df` contains the necessary data for updating the Masterlist."
   ]
  },
  {
   "cell_type": "code",
   "execution_count": null,
   "id": "c1ccdeff",
   "metadata": {},
   "outputs": [],
   "source": [
    "df_ocr = df_ocr.groupby('MFG_LOC_CODE', as_index = False).last()\n",
    "\n",
    "Overall_rating = {'Overall Rating FFC': 'Overall Compliance Rating'}\n",
    "Overall_AF = {'Overall AF Date': 'Last Changed AF Date'}\n",
    "\n",
    "Templates.update_ss(df_ocr,'5764702639810436', Overall_rating)\n",
    "Templates.update_ss(df_ocr,'5764702639810436', Overall_AF)"
   ]
  },
  {
   "cell_type": "markdown",
   "id": "7bbb8786",
   "metadata": {},
   "source": [
    "<hr style=\"border-top: 3px solid black;\">\n",
    "\n",
    "# Navigating to Individual Rating Announcement Sections\n",
    "\n",
    "In this section, you'll find instructions for navigating to the individual rating announcement sections for SLCP, FEM, ZDHC, and TRV. Each section focuses on a specific industry tool and provides guidance on running the rating announcement for that tool.\n",
    "\n",
    "## [SLCP Rating Announcement](#slcp)\n",
    "\n",
    "This section covers the rating announcement process for SLCP (Sustainable Apparel Coalition's Social and Labor Convergence Program). It includes instructions for downloading data, updating Smartsheets, generating reports, and sending the rating announcement for SLCP.\n",
    "\n",
    "## [FEM Rating Announcement](#fem)\n",
    "\n",
    "Here, you'll find instructions for the rating announcement process for FEM (Fashion Environmental Module). Similar to the SLCP section, it provides step-by-step guidance for running the rating announcement specific to FEM.\n",
    "\n",
    "## [ZDHC Rating Announcement](#zdhc)\n",
    "\n",
    "For ZDHC (Zero Discharge of Hazardous Chemicals), this section details the rating announcement process tailored to ZDHC requirements. It includes instructions for data download, Smartsheet updates, report generation, and announcement sending.\n",
    "\n",
    "## TRV Rating Announcement\n",
    "\n",
    "Finally, the TRV (True Rating Value) section focuses on the rating announcement process for TRV, including SLCP TRV and FEM TRV. It covers the necessary steps for running the rating announcement and ensuring accurate reporting.\n",
    "\n",
    "Each section is essential for handling rating announcements effectively and efficiently across different industry tools. Please proceed to the respective section for the tool you're working with.\n",
    "\n",
    "<hr style=\"border-top: 1px solid black;\">"
   ]
  },
  {
   "cell_type": "markdown",
   "id": "c8c90e95",
   "metadata": {},
   "source": [
    "## SLCP Rating Announcement <a id=\"slcp\"></a>\n",
    "\n",
    "\n",
    "### Generating UCR Report\n",
    "\n",
    "This block of code calls the function `urs_report` from the Templates module to generate a UCR (Universal Compliance Report). \n",
    "\n",
    "- `report2_name`: Specifies the name of the report as \"CDT-UCR_ Rating (SLCP)\". This report is exclusively for Nike Hybrid SLCP (Sustainable Apparel Coalition's Social and Labor Convergence Program).\n",
    "- `report2_filename`: Specifies the filename for saving the generated UCR report in the directory.\n",
    "\n",
    "Ensure that the `urs_report` function is properly configured and that the specified filenames are accurate to prevent errors and ensure successful generation and saving of the UCR report."
   ]
  },
  {
   "cell_type": "code",
   "execution_count": null,
   "id": "4b00cbb1",
   "metadata": {},
   "outputs": [],
   "source": [
    "report2_name = \"CDT-UCR_ Rating (SLCP)\"\n",
    "report2_filename = \"CDT-UCR_ Rating (SLCP)\"\n",
    "\n",
    "print(f\"Downloading {report2_name} Report\")\n",
    "slcp_ucr = Templates.urs_report(start, end, report2_name, report2_filename)\n",
    "print(f\"{report2_name} Report has been saved!\")"
   ]
  },
  {
   "cell_type": "markdown",
   "id": "4e29ad59",
   "metadata": {},
   "source": [
    "### Update FY24 Tracker"
   ]
  },
  {
   "cell_type": "code",
   "execution_count": null,
   "id": "83b2d280",
   "metadata": {},
   "outputs": [],
   "source": [
    "Assessment = {'Assessment Finalized (AF) Date': 'Last Changed AF Date'}\n",
    "Verification = {'VERIFICATION_DATE_FY24 1': 'VRF Submission Date'}\n",
    "Rating = {'SLCP Assessment Rating':'Assessment Rating'}\n",
    "Assessment_id = {'Assessment ID': 'Assessment ID'}\n",
    "\n",
    "\n",
    "Templates.update_ss(slcp_ucr,'6731125263126404', Assessment)\n",
    "Templates.update_ss(slcp_ucr,'6731125263126404', Verification)\n",
    "Templates.update_ss(slcp_ucr,'6731125263126404', Rating)\n",
    "Templates.update_ss(slcp_ucr,'6731125263126404', Assessment_id)"
   ]
  },
  {
   "cell_type": "markdown",
   "id": "fb9030de",
   "metadata": {},
   "source": [
    "### Update Overall Rating Logic"
   ]
  },
  {
   "cell_type": "code",
   "execution_count": null,
   "id": "ba5661ee",
   "metadata": {},
   "outputs": [],
   "source": [
    "Assessment = {'Assessment Finalised (AF) Date': 'Last Changed AF Date'}\n",
    "Assessment_id = {'Assessment ID': 'Assessment ID'}\n",
    "\n",
    "Templates.update_ss(slcp_ucr,'8171198992410500', Assessment)\n",
    "Templates.update_ss(slcp_ucr,'8171198992410500', Assessment_id)"
   ]
  },
  {
   "cell_type": "markdown",
   "id": "98074dba",
   "metadata": {},
   "source": [
    "### Pulling and merging of Dataframe from Smartsheet"
   ]
  },
  {
   "cell_type": "code",
   "execution_count": null,
   "id": "cf86f7b9",
   "metadata": {},
   "outputs": [],
   "source": [
    "status_col = 'SLCP Report Review Status'\n",
    "status_value = \"Drafting\"\n",
    "df_list = '8171198992410500'\n",
    "df_contact = '4826295235307396'\n",
    "\n",
    "df = Templates.smartsheet_data(df_list, df_contact,status_col,status_value)"
   ]
  },
  {
   "cell_type": "code",
   "execution_count": null,
   "id": "4b0d7c5f",
   "metadata": {},
   "outputs": [],
   "source": [
    "df.shape"
   ]
  },
  {
   "cell_type": "markdown",
   "id": "69e9882a",
   "metadata": {},
   "source": [
    "### Download Rating Announcement Report"
   ]
  },
  {
   "cell_type": "code",
   "execution_count": null,
   "id": "940f031d",
   "metadata": {},
   "outputs": [],
   "source": [
    "total_rows = len(df)\n",
    "counter = 0\n",
    "\n",
    "for index, row in df.iterrows():\n",
    "    counter += 1\n",
    "    account_id = row['Account ID']\n",
    "    report_id = row['Assessment ID']\n",
    "    mfg = row['MFG_LOC_CODE']\n",
    "    report_type = 'id_art358'\n",
    "    report_year = 'SLCP FY24'\n",
    "    \n",
    "    Templates.send_report(mfg,account_id,report_id,report_type,report_year)\n",
    "    print(f'Progress:({counter}/{total_rows})')"
   ]
  },
  {
   "cell_type": "markdown",
   "id": "151340f5",
   "metadata": {},
   "source": [
    "### Sending Rating Announcement (SLCP)\n"
   ]
  },
  {
   "cell_type": "code",
   "execution_count": null,
   "id": "c8e9dda5",
   "metadata": {},
   "outputs": [],
   "source": [
    "#templates\n",
    "ass_type = 'Social Labor Convergence Program (SLCP) verified assessment'\n",
    "ass_year = 'SLCP FY24'\n",
    "\n",
    "attach_type = 'slcp'\n",
    "rating_col = 'SLCP Prelim Rating FY24' #To determine if it is bronze / Red\n",
    "report_n = 'NIKE Findings Report (SLCP)' #To determine which attachment path \n",
    "vrf_date = 'SLCP FY24 VRF Date' #SLCP verification date\n",
    "next_vrf_d = 'SLCP FY25 Due Date' #SLCP next verification date\n",
    "af_date = 'Assessment Finalised (AF) Date'\n",
    "\n",
    "Templates.send_email_announcement(df,ass_type,ass_year,attach_type,rating_col,report_n,\n",
    "                            vrf_date,next_vrf_d,af_date)"
   ]
  },
  {
   "cell_type": "markdown",
   "id": "f2dbe570",
   "metadata": {},
   "source": [
    "### Update Tracker (Announced)"
   ]
  },
  {
   "cell_type": "code",
   "execution_count": null,
   "id": "3807ca29",
   "metadata": {},
   "outputs": [],
   "source": [
    "Announced = {'Progress Status 1': 'Announced'}\n",
    "\n",
    "Templates.update_ss(slcp_ucr,'8171198992410500', Announced)"
   ]
  },
  {
   "cell_type": "markdown",
   "id": "4b3a9c79",
   "metadata": {},
   "source": [
    "<hr style=\"border-top: 1px solid black;\">\n",
    "\n",
    "## FEM Rating Announcement <a id=\"fem\"></a>\n",
    "\n",
    "\n",
    "### Generating UCR Report\n",
    "\n",
    "This block of code calls the function `urs_report` from the Templates module to generate a UCR (Universal Compliance Report). \n",
    "\n",
    "- `report2_name`: Specifies the name of the report as \"CDT-UCR_ Rating (SLCP)\". This report is exclusively for Nike Hybrid SLCP (Sustainable Apparel Coalition's Social and Labor Convergence Program).\n",
    "- `report2_filename`: Specifies the filename for saving the generated UCR report in the directory.\n",
    "\n",
    "Ensure that the `urs_report` function is properly configured and that the specified filenames are accurate to prevent errors and ensure successful generation and saving of the UCR report."
   ]
  },
  {
   "cell_type": "code",
   "execution_count": 3,
   "id": "fe87bbcf",
   "metadata": {},
   "outputs": [
    {
     "name": "stdout",
     "output_type": "stream",
     "text": [
      "Downloading CDT-UCR_ Rating (FEM) Report\n",
      "CDT-UCR_ Rating (FEM) Report has been saved!\n"
     ]
    }
   ],
   "source": [
    "report2_name = \"CDT-UCR_ Rating (FEM)\"\n",
    "report2_filename = \"CDT-UCR_ Rating (FEM)\"\n",
    "\n",
    "print(f\"Downloading {report2_name} Report\")\n",
    "fem_ucr = Templates.urs_report(start, end, report2_name, report2_filename)\n",
    "print(f\"{report2_name} Report has been saved!\")"
   ]
  },
  {
   "cell_type": "markdown",
   "id": "3c080fda",
   "metadata": {},
   "source": [
    "### Update FEM Tracker"
   ]
  },
  {
   "cell_type": "code",
   "execution_count": 6,
   "id": "1ed112e8",
   "metadata": {},
   "outputs": [
    {
     "name": "stdout",
     "output_type": "stream",
     "text": [
      "----------------------------------------------------------\n",
      "Script is now updating {'FEM2023_AF_Date': 'Last Changed AF Date'}!\n",
      "Final Batch of rows updated in Column {'FEM2023_AF_Date': 'Last Changed AF Date'}\n",
      "Script has finished updating {'FEM2023_AF_Date': 'Last Changed AF Date'}!\n",
      "----------------------------------------------------------\n",
      "----------------------------------------------------------\n",
      "Script is now updating {'FEM2023_VRF_Date': 'VRF Submission Date'}!\n",
      "Final Batch of rows updated in Column {'FEM2023_VRF_Date': 'VRF Submission Date'}\n",
      "Script has finished updating {'FEM2023_VRF_Date': 'VRF Submission Date'}!\n",
      "----------------------------------------------------------\n",
      "----------------------------------------------------------\n",
      "Script is now updating {'FEM 2023 Rating': 'Environment Assessment Rating'}!\n",
      "Final Batch of rows updated in Column {'FEM 2023 Rating': 'Environment Assessment Rating'}\n",
      "Script has finished updating {'FEM 2023 Rating': 'Environment Assessment Rating'}!\n",
      "----------------------------------------------------------\n"
     ]
    }
   ],
   "source": [
    "Assessment = {'FEM2023_AF_Date': 'Last Changed AF Date'}\n",
    "Verification = {'FEM2023_VRF_Date': 'VRF Submission Date'}\n",
    "Rating = {'FEM 2023 Rating':'Environment Assessment Rating'}\n",
    "#Assessment_id = {'Assessment ID': 'Assessment ID'}\n",
    "\n",
    "\n",
    "Templates.update_ss(fem_ucr,'4510449475211140', Assessment)\n",
    "Templates.update_ss(fem_ucr,'4510449475211140', Verification)\n",
    "Templates.update_ss(fem_ucr,'4510449475211140', Rating)\n",
    "#Templates.update_ss(fem_ucr,'4510449475211140', Assessment_id)"
   ]
  },
  {
   "cell_type": "markdown",
   "id": "e039b549",
   "metadata": {},
   "source": [
    "### Update Overall Rating Logic Smartsheet"
   ]
  },
  {
   "cell_type": "code",
   "execution_count": 5,
   "id": "ab98c088",
   "metadata": {},
   "outputs": [
    {
     "name": "stdout",
     "output_type": "stream",
     "text": [
      "----------------------------------------------------------\n",
      "Script is now updating {'FEM2023_AF_Date': 'Last Changed AF Date'}!\n",
      "Final Batch of rows updated in Column {'FEM2023_AF_Date': 'Last Changed AF Date'}\n",
      "Script has finished updating {'FEM2023_AF_Date': 'Last Changed AF Date'}!\n",
      "----------------------------------------------------------\n",
      "----------------------------------------------------------\n",
      "Script is now updating {'Assessment ID': 'Assessment ID'}!\n",
      "Final Batch of rows updated in Column {'Assessment ID': 'Assessment ID'}\n",
      "Script has finished updating {'Assessment ID': 'Assessment ID'}!\n",
      "----------------------------------------------------------\n"
     ]
    }
   ],
   "source": [
    "Assessment = {'FEM2023_AF_Date': 'Last Changed AF Date'}\n",
    "Assessment_id = {'Assessment ID': 'Assessment ID'}\n",
    "\n",
    "Templates.update_ss(fem_ucr,'8171198992410500', Assessment)\n",
    "Templates.update_ss(fem_ucr,'8171198992410500', Assessment_id)"
   ]
  },
  {
   "cell_type": "markdown",
   "id": "964761a4",
   "metadata": {},
   "source": [
    "### Pulling and merging of Dataframe from Smartsheet"
   ]
  },
  {
   "cell_type": "code",
   "execution_count": null,
   "id": "41cedf3a",
   "metadata": {},
   "outputs": [],
   "source": [
    "status_col = 'FEM 2023 Report Review Status'\n",
    "status_value = \"Drafting\"\n",
    "df_list = '8171198992410500'\n",
    "df_contact = '4826295235307396'\n",
    "\n",
    "df = Templates.smartsheet_data(df_list, df_contact,status_col,status_value)"
   ]
  },
  {
   "cell_type": "code",
   "execution_count": null,
   "id": "fc03194e",
   "metadata": {},
   "outputs": [],
   "source": [
    "df.head()"
   ]
  },
  {
   "cell_type": "markdown",
   "id": "a1332b08",
   "metadata": {},
   "source": [
    "### Download Rating Announcement Report (FEM)"
   ]
  },
  {
   "cell_type": "code",
   "execution_count": null,
   "id": "f622d7de",
   "metadata": {},
   "outputs": [],
   "source": [
    "total_rows = len(df)\n",
    "counter = 0\n",
    "\n",
    "for index, row in df.iloc[2:].iterrows():\n",
    "    counter += 1\n",
    "    account_id = row['Account ID']\n",
    "    report_id = row['Assessment ID']\n",
    "    mfg = row['MFG_LOC_CODE']\n",
    "    report_type = 'id_art461'\n",
    "    report_year = 'FEM 2023'\n",
    "    \n",
    "    Templates.send_report(mfg,account_id,report_id,report_type,report_year)\n",
    "    print(f'Progress:({counter}/{total_rows})')"
   ]
  },
  {
   "cell_type": "markdown",
   "id": "6a842ab3",
   "metadata": {},
   "source": [
    "### Sending Rating Announcement (FEM)"
   ]
  },
  {
   "cell_type": "code",
   "execution_count": null,
   "id": "36e35d06",
   "metadata": {},
   "outputs": [],
   "source": [
    "ass_type = 'Higg Facility Environmental Module (FEM) 2023 verified assessment'\n",
    "ass_year = 'FEM 2023'\n",
    "\n",
    "attach_type = \"fem\"\n",
    "rating_col = 'FEM 2023 Rating' #To determine if it is bronze / Red\n",
    "report_n = 'NIKE Findings Report (FEM)' #To determine which attachment path \n",
    "vrf_date = 'FEM2023_VRF_Date' #SLCP verification date\n",
    "next_vrf_d = 'FEM2023_NEXT_VRF_Date' #SLCP next verification date\n",
    "af_date = 'FEM2023_AF_Date'\n",
    "\n",
    "Templates.send_email_announcement(df,ass_type,ass_year,attach_type,rating_col,report_n,\n",
    "                            vrf_date,next_vrf_d,af_date)"
   ]
  },
  {
   "cell_type": "markdown",
   "id": "a5b0c63a",
   "metadata": {},
   "source": [
    "<hr style=\"border-top: 1px solid black;\">\n",
    "\n",
    "## ZDHC Rating Announcement <a id=\"zdhc\"></a>\n",
    "\n",
    "\n",
    "### Generating UCR Report\n",
    "\n",
    "This block of code calls the function `urs_report` from the Templates module to generate a UCR (Universal Compliance Report). \n",
    "\n",
    "- `report2_name`: Specifies the name of the report as \"CDT-UCR_ Rating (SLCP)\". This report is exclusively for Nike Hybrid SLCP (Sustainable Apparel Coalition's Social and Labor Convergence Program).\n",
    "- `report2_filename`: Specifies the filename for saving the generated UCR report in the directory.\n",
    "\n",
    "Ensure that the `urs_report` function is properly configured and that the specified filenames are accurate to prevent errors and ensure successful generation and saving of the UCR report."
   ]
  },
  {
   "cell_type": "code",
   "execution_count": null,
   "id": "a7c2fbb5",
   "metadata": {
    "scrolled": true
   },
   "outputs": [],
   "source": [
    "report2_name = \"CDT-UCR_ Rating (ZDHC)\"\n",
    "report2_filename = \"CDT-UCR_ Rating (ZDHC)\"\n",
    "\n",
    "print(f\"Downloading {report2_name} Report\")\n",
    "zdhc_ucr = Templates.urs_report(start, end, report2_name, report2_filename)\n",
    "print(f\"{report2_name} Report has been saved!\")"
   ]
  },
  {
   "cell_type": "markdown",
   "id": "644a8acd",
   "metadata": {},
   "source": [
    "### Update ZDHC Tracker"
   ]
  },
  {
   "cell_type": "code",
   "execution_count": null,
   "id": "4d0c2b57",
   "metadata": {},
   "outputs": [],
   "source": [
    "Assessment = {'Rating Date-AF Date': 'Last Changed AF Date'}\n",
    "Verification = {'Report Date-Assessment Date': 'Assessment Date'}\n",
    "Rating = {'ZDHC Apr 24 Final rating':'Wastewater Assessment Rating'}\n",
    "Assessment_id = {'Assessment ID': 'Assessment ID'}\n",
    "\n",
    "\n",
    "Templates.update_ss(zdhc_ucr,'6874810483167108', Assessment)\n",
    "Templates.update_ss(zdhc_ucr,'6874810483167108', Verification)\n",
    "Templates.update_ss(zdhc_ucr,'6874810483167108', Rating)\n",
    "Templates.update_ss(zdhc_ucr,'6874810483167108', Assessment_id)"
   ]
  },
  {
   "cell_type": "markdown",
   "id": "ccbe8fc8",
   "metadata": {},
   "source": [
    "### Update Overall Rating Logic Smartsheet"
   ]
  },
  {
   "cell_type": "code",
   "execution_count": null,
   "id": "223f9b7f",
   "metadata": {},
   "outputs": [],
   "source": [
    "Assessment = {'Assessment Finalised (AF) Date': 'Last Changed AF Date'}\n",
    "Assessment_id = {'Assessment ID': 'Assessment ID'}\n",
    "\n",
    "Templates.update_ss(fem_ucr,'8171198992410500', Assessment)\n",
    "Templates.update_ss(fem_ucr,'8171198992410500', Assessment_id)"
   ]
  },
  {
   "cell_type": "markdown",
   "id": "70df4e0b",
   "metadata": {},
   "source": [
    "### Pulling and merging of Dataframe from Smartsheet"
   ]
  },
  {
   "cell_type": "code",
   "execution_count": null,
   "id": "77927bba",
   "metadata": {},
   "outputs": [],
   "source": [
    "status_col = 'ZDHC Report Review Status'\n",
    "status_value = \"Drafting\"\n",
    "df_list = '8171198992410500'\n",
    "df_contact = '4826295235307396'\n",
    "\n",
    "df = Templates.smartsheet_data(df_list, df_contact,status_col,status_value)"
   ]
  },
  {
   "cell_type": "code",
   "execution_count": null,
   "id": "556c715e",
   "metadata": {},
   "outputs": [],
   "source": [
    "df.head()"
   ]
  },
  {
   "cell_type": "markdown",
   "id": "91c3c515",
   "metadata": {},
   "source": [
    "### Download Rating Announcement Report (ZDHC)"
   ]
  },
  {
   "cell_type": "code",
   "execution_count": null,
   "id": "f129fac8",
   "metadata": {},
   "outputs": [],
   "source": [
    "total_rows = len(df)\n",
    "counter = 0\n",
    "\n",
    "for index, row in df.iterrows():\n",
    "    counter += 1\n",
    "    account_id = row['Account ID']\n",
    "    report_id = row['Assessment ID']\n",
    "    mfg = row['MFG_LOC_CODE']\n",
    "    report_type = 'id_art414' #This is for ZDHC Direct Discharge\n",
    "    report_year = 'ZDHC April 2024'\n",
    "    \n",
    "    Templates.send_report(mfg,account_id,report_id,report_type,report_year)\n",
    "    print(f'Progress:({counter}/{total_rows})')"
   ]
  },
  {
   "cell_type": "markdown",
   "id": "59bff021",
   "metadata": {},
   "source": [
    "### Sending Rating Announcement (ZDHC)"
   ]
  },
  {
   "cell_type": "code",
   "execution_count": null,
   "id": "73568ae1",
   "metadata": {},
   "outputs": [],
   "source": [
    "ass_type = 'Zero Discharge of Hazardous Chemical (ZDHC) Wastewater test'\n",
    "ass_year = 'ZDHC April 2024'\n",
    "\n",
    "attach_type = \"zdhc\"\n",
    "rating_col = 'ZDHC Apr 24 Rating' #To determine if it is bronze / Red\n",
    "report_n = 'NIKE Findings Report (ZDHC)' #To determine which attachment path \n",
    "vrf_date = 'ZDHC FY24 VRF Date' #SLCP verification date\n",
    "next_vrf_d = 'ZDHC Next Due Date' #SLCP next verification date\n",
    "af_date = 'Rating Date-AF Date'\n",
    "\n",
    "Templates.send_email_announcement(df,ass_type,ass_year,attach_type,rating_col,report_n,\n",
    "                            vrf_date,next_vrf_d,af_date)"
   ]
  },
  {
   "cell_type": "code",
   "execution_count": null,
   "id": "500c5e01",
   "metadata": {},
   "outputs": [],
   "source": []
  }
 ],
 "metadata": {
  "kernelspec": {
   "display_name": "Python 3 (ipykernel)",
   "language": "python",
   "name": "python3"
  },
  "language_info": {
   "codemirror_mode": {
    "name": "ipython",
    "version": 3
   },
   "file_extension": ".py",
   "mimetype": "text/x-python",
   "name": "python",
   "nbconvert_exporter": "python",
   "pygments_lexer": "ipython3",
   "version": "3.11.5"
  }
 },
 "nbformat": 4,
 "nbformat_minor": 5
}
